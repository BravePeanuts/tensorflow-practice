{
 "cells": [
  {
   "cell_type": "markdown",
   "metadata": {},
   "source": [
    "## Optimization\n",
    "- Speed optimization\n",
    "- Accuracy optimization"
   ]
  },
  {
   "cell_type": "markdown",
   "metadata": {},
   "source": [
    "## Speed optimization\n",
    "- timeline to show which part is slow\n",
    "- then accelerate\n",
    "\n",
    "### Tips\n",
    "- overall: use ```tfa.api``` instead of ```py_func```\n",
    "- about data: use ```tf.data``` or ```tf.FIFOQueue```\n",
    "- use ```gpu kernel```"
   ]
  },
  {
   "cell_type": "markdown",
   "metadata": {},
   "source": [
    "## Accuracy optimization\n",
    "- tuning parameters is an art\n",
    "- systematic methodology\n",
    "- all are data-oriented\n",
    "\n",
    "### Tips\n",
    "- choice different networks\n",
    "- design different loss\n",
    "- choice different optimizers\n",
    "- set different learning rate\n",
    "- weight_decay\n",
    "- ...\n",
    "- so you should be able to manage the hyperpamaters"
   ]
  },
  {
   "cell_type": "code",
   "execution_count": null,
   "metadata": {},
   "outputs": [],
   "source": []
  }
 ],
 "metadata": {
  "kernelspec": {
   "display_name": "Python 2",
   "language": "python",
   "name": "python2"
  },
  "language_info": {
   "codemirror_mode": {
    "name": "ipython",
    "version": 2
   },
   "file_extension": ".py",
   "mimetype": "text/x-python",
   "name": "python",
   "nbconvert_exporter": "python",
   "pygments_lexer": "ipython2",
   "version": "2.7.6"
  }
 },
 "nbformat": 4,
 "nbformat_minor": 2
}
