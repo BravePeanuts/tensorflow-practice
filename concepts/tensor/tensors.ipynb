{
 "cells": [
  {
   "cell_type": "markdown",
   "metadata": {},
   "source": [
    "# tensors\n",
    "A **tensor** is a generalization of vectors and matrices to potentially higher dimisions. Internally, Tensorsflow represents tensors as n-dimensional arrays of basic datatyeps.\n",
    "\n",
    "When writing a tensorflow program, the main object you maniplate and pass around is the ```tf.Tensor```. A ```tf.Tensor``` object represnets a partially defined computation that will eventually produce a value.\n",
    "\n",
    "A ```tf.Tensor``` has the following properties:\n",
    "- a datatype(float32, int32, or srting)\n",
    "- a shape\n",
    "\n",
    "The main tensors are:\n",
    "- ```tf.Variable```\n",
    "- ```tf.constant```\n",
    "- ```tf.placeholder```"
   ]
  },
  {
   "cell_type": "code",
   "execution_count": 2,
   "metadata": {},
   "outputs": [],
   "source": [
    "import tensorflow as tf"
   ]
  },
  {
   "cell_type": "markdown",
   "metadata": {},
   "source": [
    "## Understanding static and dynamic shapes"
   ]
  },
  {
   "cell_type": "code",
   "execution_count": null,
   "metadata": {},
   "outputs": [],
   "source": [
    "###"
   ]
  },
  {
   "cell_type": "code",
   "execution_count": 3,
   "metadata": {},
   "outputs": [
    {
     "name": "stdout",
     "output_type": "stream",
     "text": [
      "[None, 128]\n"
     ]
    }
   ],
   "source": [
    "a = tf.placeholder(tf.float32,[None,128])\n",
    "static_shape = a.shape.as_list()\n",
    "print static_shape"
   ]
  },
  {
   "cell_type": "code",
   "execution_count": 4,
   "metadata": {},
   "outputs": [
    {
     "name": "stdout",
     "output_type": "stream",
     "text": [
      "Tensor(\"Shape:0\", shape=(2,), dtype=int32)\n"
     ]
    }
   ],
   "source": [
    "dynamic_shape = tf.shape(a)\n",
    "print dynamic_shape"
   ]
  },
  {
   "cell_type": "code",
   "execution_count": 6,
   "metadata": {},
   "outputs": [
    {
     "name": "stdout",
     "output_type": "stream",
     "text": [
      "[<tf.Tensor 'unstack_1:0' shape=() dtype=int32>, 10, 32]\n",
      "Tensor(\"Reshape_1:0\", shape=(?, 320), dtype=float32)\n"
     ]
    }
   ],
   "source": [
    "def get_shape(tensor):\n",
    "    static_shape = tensor.shape.as_list()\n",
    "    dynamic_shape =  tf.unstack(tf.shape(tensor))\n",
    "    dims = [s[1] if s[0] is None else s[0] for s in zip(static_shape,dynamic_shape)]\n",
    "    return dims\n",
    "b = tf.placeholder(tf.float32, [None, 10, 32])\n",
    "shape = get_shape(b)\n",
    "print(shape)\n",
    "b = tf.reshape(b,[shape[0],shape[1]*shape[2]])\n",
    "print(b)"
   ]
  },
  {
   "cell_type": "code",
   "execution_count": null,
   "metadata": {},
   "outputs": [],
   "source": []
  }
 ],
 "metadata": {
  "kernelspec": {
   "display_name": "Python 2",
   "language": "python",
   "name": "python2"
  },
  "language_info": {
   "codemirror_mode": {
    "name": "ipython",
    "version": 2
   },
   "file_extension": ".py",
   "mimetype": "text/x-python",
   "name": "python",
   "nbconvert_exporter": "python",
   "pygments_lexer": "ipython2",
   "version": "2.7.6"
  }
 },
 "nbformat": 4,
 "nbformat_minor": 2
}
